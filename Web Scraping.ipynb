{
 "cells": [
  {
   "cell_type": "code",
   "execution_count": 30,
   "id": "91d27af9-9f5a-4931-831a-a933e1c78bbe",
   "metadata": {},
   "outputs": [],
   "source": [
    "import pandas as pd\n",
    "from bs4 import BeautifulSoup\n",
    "import requests"
   ]
  },
  {
   "cell_type": "markdown",
   "id": "edc4bc54-3124-4ba3-95d0-4ee2cac00db7",
   "metadata": {},
   "source": [
    "### Fetching the data from IMDB website"
   ]
  },
  {
   "cell_type": "code",
   "execution_count": 32,
   "id": "132b938c-fd7e-4ddd-bd06-ac8236e6be89",
   "metadata": {},
   "outputs": [],
   "source": [
    "# Define User-Agent header to mimic a web browser\n",
    "headers = {\n",
    "    'User-Agent': 'Mozilla/5.0 (Windows NT 10.0; Win64; x64) AppleWebKit/537.36 (KHTML, like Gecko) Chrome/91.0.4472.124 Safari/537.36',\n",
    "}\n",
    "\n",
    "# Initialize lists to store scraped data\n",
    "Rank = []\n",
    "Movie_Name = []\n",
    "IMDB_Rating = []\n",
    "\n",
    "# Try to fetch data from the IMDb website\n",
    "try:\n",
    "    # Send a GET request to the IMDb website with specified headers\n",
    "    source = requests.get(\"https://m.imdb.com/india/top-rated-indian-movies/\", headers=headers)\n",
    "    source.raise_for_status()  # Raise an exception for bad responses\n",
    "\n",
    "    # Parse the HTML content of the webpage\n",
    "    soup = BeautifulSoup(source.text, 'html.parser')\n",
    "\n",
    "    # Find the section containing the list of top-rated Indian movies\n",
    "    movies = soup.find('ul', class_=\"ipc-metadata-list ipc-metadata-list--dividers-all ipc-metadata-list--compact sc-3c7febe6-1 hPvgeC ipc-metadata-list--base\")\n",
    "\n",
    "    # Find all individual movie entries within the list\n",
    "    movies = movies.find_all('li', class_=\"ipc-metadata-list__item ipc-metadata-list__item--inline ipc-metadata-list-item--link\")\n",
    "\n",
    "    # Iterate through each movie entry\n",
    "    for movie in movies:\n",
    "        # Extract the rank of the movie\n",
    "        rank = movie.find('span', class_=\"sc-9910edf6-5 dsVoCd\").text\n",
    "\n",
    "        # Extract the combined data containing both rank and movie name\n",
    "        data = movie.find('span', class_=\"sc-9910edf6-4 eyrnkD\").text\n",
    "\n",
    "        # Remove the rank from the combined data to get the movie name\n",
    "        if rank in data:\n",
    "            name = data.replace(rank, '', 1)\n",
    "\n",
    "        # Extract the IMDb rating of the movie\n",
    "        rating = movie.find('span', class_=\"ipc-rating-star ipc-rating-star--base ipc-rating-star--imdb ratingGroup--imdb-rating\").text\n",
    "\n",
    "        # Append the extracted data to the respective lists\n",
    "        Rank.append(rank)\n",
    "        Movie_Name.append(name)\n",
    "        IMDB_Rating.append(rating)\n",
    "\n",
    "# Catch any exceptions that might occur during the execution of the try block\n",
    "except Exception as e:\n",
    "    print(e)\n"
   ]
  },
  {
   "cell_type": "markdown",
   "id": "3db2b36c-5f78-4257-8620-e16ac4e44fbe",
   "metadata": {},
   "source": [
    "### Transforming IMDb data into a DataFrame structure"
   ]
  },
  {
   "cell_type": "code",
   "execution_count": 33,
   "id": "acee7aed-f935-41e7-b180-09b5599b363e",
   "metadata": {},
   "outputs": [],
   "source": [
    "Top_movies={\n",
    "            \"Rank\":Rank,\n",
    "            \"Movie_Name\":Movie_Name,\n",
    "            \"IMDB_Rating\":IMDB_Rating\n",
    "           }"
   ]
  },
  {
   "cell_type": "code",
   "execution_count": 34,
   "id": "0894b913-1a76-4bdb-9677-dafc9ef5fca3",
   "metadata": {},
   "outputs": [],
   "source": [
    "Top_Rated_Indian_movies=pd.DataFrame(Top_movies)"
   ]
  },
  {
   "cell_type": "markdown",
   "id": "a54596a8-fae0-4fb4-a93c-2df71bbcdc7a",
   "metadata": {},
   "source": [
    "### Data Transformation"
   ]
  },
  {
   "cell_type": "code",
   "execution_count": 36,
   "id": "214d3454-fdf6-476b-9f68-57cb9dadff29",
   "metadata": {},
   "outputs": [
    {
     "data": {
      "text/plain": [
       "Rank           object\n",
       "Movie_Name     object\n",
       "IMDB_Rating    object\n",
       "dtype: object"
      ]
     },
     "execution_count": 36,
     "metadata": {},
     "output_type": "execute_result"
    }
   ],
   "source": [
    "Top_Rated_Indian_movies.dtypes"
   ]
  },
  {
   "cell_type": "code",
   "execution_count": 37,
   "id": "6aa76c2a-00e3-4ba3-aedf-962a7e8309ca",
   "metadata": {},
   "outputs": [],
   "source": [
    "Top_Rated_Indian_movies['Rank']=pd.to_numeric(Top_Rated_Indian_movies['Rank'])\n",
    "Top_Rated_Indian_movies['IMDB_Rating']=pd.to_numeric(Top_Rated_Indian_movies['IMDB_Rating'])"
   ]
  },
  {
   "cell_type": "code",
   "execution_count": 38,
   "id": "64eabcdc-adc8-4086-a234-10953c3ec221",
   "metadata": {},
   "outputs": [
    {
     "data": {
      "text/plain": [
       "Rank             int64\n",
       "Movie_Name      object\n",
       "IMDB_Rating    float64\n",
       "dtype: object"
      ]
     },
     "execution_count": 38,
     "metadata": {},
     "output_type": "execute_result"
    }
   ],
   "source": [
    "Top_Rated_Indian_movies.dtypes"
   ]
  },
  {
   "cell_type": "markdown",
   "id": "aa8326a8-1d84-4134-9c19-46ab3ebcfacd",
   "metadata": {},
   "source": [
    "### Overview of Dataset"
   ]
  },
  {
   "cell_type": "code",
   "execution_count": 43,
   "id": "9454f2e8-70ab-45c1-bdb2-9cd6a4ce8914",
   "metadata": {},
   "outputs": [
    {
     "data": {
      "text/plain": [
       "<bound method DataFrame.info of      Rank                           Movie_Name  IMDB_Rating\n",
       "0       1                            12th Fail          9.2\n",
       "1       2  Ramayana: The Legend of Prince Rama          9.2\n",
       "2       3                              Nayakan          8.7\n",
       "3       4                             Gol Maal          8.5\n",
       "4       5           Rocketry: The Nambi Effect          8.7\n",
       "..    ...                                  ...          ...\n",
       "245   246                     Stanley Ka Dabba          7.8\n",
       "246   247                           Happy Days          7.9\n",
       "247   248                           Sonchiriya          7.9\n",
       "248   249                 Nayak: The Real Hero          7.8\n",
       "249   250             Hazaaron Khwaishein Aisi          7.9\n",
       "\n",
       "[250 rows x 3 columns]>"
      ]
     },
     "execution_count": 43,
     "metadata": {},
     "output_type": "execute_result"
    }
   ],
   "source": [
    "Top_Rated_Indian_movies.info"
   ]
  },
  {
   "cell_type": "code",
   "execution_count": 39,
   "id": "7c08b31a-1a13-4330-b653-b6c9b8989c9c",
   "metadata": {},
   "outputs": [
    {
     "data": {
      "text/html": [
       "<div>\n",
       "<style scoped>\n",
       "    .dataframe tbody tr th:only-of-type {\n",
       "        vertical-align: middle;\n",
       "    }\n",
       "\n",
       "    .dataframe tbody tr th {\n",
       "        vertical-align: top;\n",
       "    }\n",
       "\n",
       "    .dataframe thead th {\n",
       "        text-align: right;\n",
       "    }\n",
       "</style>\n",
       "<table border=\"1\" class=\"dataframe\">\n",
       "  <thead>\n",
       "    <tr style=\"text-align: right;\">\n",
       "      <th></th>\n",
       "      <th>Rank</th>\n",
       "      <th>Movie_Name</th>\n",
       "      <th>IMDB_Rating</th>\n",
       "    </tr>\n",
       "  </thead>\n",
       "  <tbody>\n",
       "    <tr>\n",
       "      <th>0</th>\n",
       "      <td>1</td>\n",
       "      <td>12th Fail</td>\n",
       "      <td>9.2</td>\n",
       "    </tr>\n",
       "    <tr>\n",
       "      <th>1</th>\n",
       "      <td>2</td>\n",
       "      <td>Ramayana: The Legend of Prince Rama</td>\n",
       "      <td>9.2</td>\n",
       "    </tr>\n",
       "    <tr>\n",
       "      <th>2</th>\n",
       "      <td>3</td>\n",
       "      <td>Nayakan</td>\n",
       "      <td>8.7</td>\n",
       "    </tr>\n",
       "    <tr>\n",
       "      <th>3</th>\n",
       "      <td>4</td>\n",
       "      <td>Gol Maal</td>\n",
       "      <td>8.5</td>\n",
       "    </tr>\n",
       "    <tr>\n",
       "      <th>4</th>\n",
       "      <td>5</td>\n",
       "      <td>Rocketry: The Nambi Effect</td>\n",
       "      <td>8.7</td>\n",
       "    </tr>\n",
       "    <tr>\n",
       "      <th>5</th>\n",
       "      <td>6</td>\n",
       "      <td>Anbe Sivam</td>\n",
       "      <td>8.6</td>\n",
       "    </tr>\n",
       "    <tr>\n",
       "      <th>6</th>\n",
       "      <td>7</td>\n",
       "      <td>777 Charlie</td>\n",
       "      <td>8.8</td>\n",
       "    </tr>\n",
       "    <tr>\n",
       "      <th>7</th>\n",
       "      <td>8</td>\n",
       "      <td>Pariyerum Perumal</td>\n",
       "      <td>8.7</td>\n",
       "    </tr>\n",
       "    <tr>\n",
       "      <th>8</th>\n",
       "      <td>9</td>\n",
       "      <td>Manichitrathazhu</td>\n",
       "      <td>8.8</td>\n",
       "    </tr>\n",
       "    <tr>\n",
       "      <th>9</th>\n",
       "      <td>10</td>\n",
       "      <td>#Home</td>\n",
       "      <td>8.8</td>\n",
       "    </tr>\n",
       "  </tbody>\n",
       "</table>\n",
       "</div>"
      ],
      "text/plain": [
       "   Rank                           Movie_Name  IMDB_Rating\n",
       "0     1                            12th Fail          9.2\n",
       "1     2  Ramayana: The Legend of Prince Rama          9.2\n",
       "2     3                              Nayakan          8.7\n",
       "3     4                             Gol Maal          8.5\n",
       "4     5           Rocketry: The Nambi Effect          8.7\n",
       "5     6                           Anbe Sivam          8.6\n",
       "6     7                          777 Charlie          8.8\n",
       "7     8                    Pariyerum Perumal          8.7\n",
       "8     9                     Manichitrathazhu          8.8\n",
       "9    10                                #Home          8.8"
      ]
     },
     "execution_count": 39,
     "metadata": {},
     "output_type": "execute_result"
    }
   ],
   "source": [
    "Top_Rated_Indian_movies.head(10)"
   ]
  },
  {
   "cell_type": "code",
   "execution_count": 40,
   "id": "cbe16ea4-591f-49e6-b08b-3e2535350942",
   "metadata": {},
   "outputs": [
    {
     "data": {
      "text/html": [
       "<div>\n",
       "<style scoped>\n",
       "    .dataframe tbody tr th:only-of-type {\n",
       "        vertical-align: middle;\n",
       "    }\n",
       "\n",
       "    .dataframe tbody tr th {\n",
       "        vertical-align: top;\n",
       "    }\n",
       "\n",
       "    .dataframe thead th {\n",
       "        text-align: right;\n",
       "    }\n",
       "</style>\n",
       "<table border=\"1\" class=\"dataframe\">\n",
       "  <thead>\n",
       "    <tr style=\"text-align: right;\">\n",
       "      <th></th>\n",
       "      <th>Rank</th>\n",
       "      <th>Movie_Name</th>\n",
       "      <th>IMDB_Rating</th>\n",
       "    </tr>\n",
       "  </thead>\n",
       "  <tbody>\n",
       "    <tr>\n",
       "      <th>240</th>\n",
       "      <td>241</td>\n",
       "      <td>RangiTaranga</td>\n",
       "      <td>8.2</td>\n",
       "    </tr>\n",
       "    <tr>\n",
       "      <th>241</th>\n",
       "      <td>242</td>\n",
       "      <td>Poove Unakkaga</td>\n",
       "      <td>8.6</td>\n",
       "    </tr>\n",
       "    <tr>\n",
       "      <th>242</th>\n",
       "      <td>243</td>\n",
       "      <td>Rise Roar Revolt</td>\n",
       "      <td>7.8</td>\n",
       "    </tr>\n",
       "    <tr>\n",
       "      <th>243</th>\n",
       "      <td>244</td>\n",
       "      <td>Angamaly Diaries</td>\n",
       "      <td>7.9</td>\n",
       "    </tr>\n",
       "    <tr>\n",
       "      <th>244</th>\n",
       "      <td>245</td>\n",
       "      <td>Vicky Donor</td>\n",
       "      <td>7.8</td>\n",
       "    </tr>\n",
       "    <tr>\n",
       "      <th>245</th>\n",
       "      <td>246</td>\n",
       "      <td>Stanley Ka Dabba</td>\n",
       "      <td>7.8</td>\n",
       "    </tr>\n",
       "    <tr>\n",
       "      <th>246</th>\n",
       "      <td>247</td>\n",
       "      <td>Happy Days</td>\n",
       "      <td>7.9</td>\n",
       "    </tr>\n",
       "    <tr>\n",
       "      <th>247</th>\n",
       "      <td>248</td>\n",
       "      <td>Sonchiriya</td>\n",
       "      <td>7.9</td>\n",
       "    </tr>\n",
       "    <tr>\n",
       "      <th>248</th>\n",
       "      <td>249</td>\n",
       "      <td>Nayak: The Real Hero</td>\n",
       "      <td>7.8</td>\n",
       "    </tr>\n",
       "    <tr>\n",
       "      <th>249</th>\n",
       "      <td>250</td>\n",
       "      <td>Hazaaron Khwaishein Aisi</td>\n",
       "      <td>7.9</td>\n",
       "    </tr>\n",
       "  </tbody>\n",
       "</table>\n",
       "</div>"
      ],
      "text/plain": [
       "     Rank                Movie_Name  IMDB_Rating\n",
       "240   241              RangiTaranga          8.2\n",
       "241   242            Poove Unakkaga          8.6\n",
       "242   243          Rise Roar Revolt          7.8\n",
       "243   244          Angamaly Diaries          7.9\n",
       "244   245               Vicky Donor          7.8\n",
       "245   246          Stanley Ka Dabba          7.8\n",
       "246   247                Happy Days          7.9\n",
       "247   248                Sonchiriya          7.9\n",
       "248   249      Nayak: The Real Hero          7.8\n",
       "249   250  Hazaaron Khwaishein Aisi          7.9"
      ]
     },
     "execution_count": 40,
     "metadata": {},
     "output_type": "execute_result"
    }
   ],
   "source": [
    "Top_Rated_Indian_movies.tail(10)"
   ]
  },
  {
   "cell_type": "code",
   "execution_count": 51,
   "id": "7658a0cb-4674-4691-8c77-65ddb94fec68",
   "metadata": {},
   "outputs": [
    {
     "data": {
      "text/plain": [
       "count    250.00\n",
       "mean       8.20\n",
       "std        0.26\n",
       "min        7.80\n",
       "25%        8.00\n",
       "50%        8.20\n",
       "75%        8.30\n",
       "max        9.20\n",
       "Name: IMDB_Rating, dtype: float64"
      ]
     },
     "execution_count": 51,
     "metadata": {},
     "output_type": "execute_result"
    }
   ],
   "source": [
    "Top_Rated_Indian_movies[\"IMDB_Rating\"].describe().round(2)"
   ]
  },
  {
   "cell_type": "code",
   "execution_count": null,
   "id": "3eb08389-39e1-4090-96ae-fbca1f8572cc",
   "metadata": {},
   "outputs": [],
   "source": []
  }
 ],
 "metadata": {
  "kernelspec": {
   "display_name": "Python 3 (ipykernel)",
   "language": "python",
   "name": "python3"
  },
  "language_info": {
   "codemirror_mode": {
    "name": "ipython",
    "version": 3
   },
   "file_extension": ".py",
   "mimetype": "text/x-python",
   "name": "python",
   "nbconvert_exporter": "python",
   "pygments_lexer": "ipython3",
   "version": "3.10.9"
  }
 },
 "nbformat": 4,
 "nbformat_minor": 5
}
